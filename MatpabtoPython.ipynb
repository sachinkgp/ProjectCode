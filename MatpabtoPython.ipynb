{
 "cells": [
  {
   "cell_type": "markdown",
   "id": "8b21b9ed",
   "metadata": {},
   "source": [
    "# Section 1"
   ]
  },
  {
   "cell_type": "code",
   "execution_count": 1,
   "id": "1ca21e42",
   "metadata": {},
   "outputs": [],
   "source": [
    "import os"
   ]
  },
  {
   "cell_type": "code",
   "execution_count": 5,
   "id": "7a7cb65e",
   "metadata": {
    "scrolled": true
   },
   "outputs": [
    {
     "data": {
      "text/plain": [
       "'/home/sachin/Downloads/projectfinalfolder/temp1'"
      ]
     },
     "execution_count": 5,
     "metadata": {},
     "output_type": "execute_result"
    }
   ],
   "source": [
    "pwd()"
   ]
  },
  {
   "cell_type": "code",
   "execution_count": 3,
   "id": "a7fb6ecc",
   "metadata": {},
   "outputs": [],
   "source": [
    "path = '/home/sachin/Downloads/projectfinalfolder/temp1'"
   ]
  },
  {
   "cell_type": "code",
   "execution_count": 38,
   "id": "eaa59565",
   "metadata": {},
   "outputs": [],
   "source": [
    "path = '/home/sachin/Downloads/projectfinalfolder/part2-b'"
   ]
  },
  {
   "cell_type": "code",
   "execution_count": 39,
   "id": "073de01c",
   "metadata": {},
   "outputs": [],
   "source": [
    "os.chdir(path)"
   ]
  },
  {
   "cell_type": "code",
   "execution_count": 40,
   "id": "18e4e0bf",
   "metadata": {},
   "outputs": [
    {
     "data": {
      "text/plain": [
       "'/home/sachin/Downloads/projectfinalfolder/part2-b'"
      ]
     },
     "execution_count": 40,
     "metadata": {},
     "output_type": "execute_result"
    }
   ],
   "source": [
    "pwd()"
   ]
  },
  {
   "cell_type": "code",
   "execution_count": 43,
   "id": "5d6364c2",
   "metadata": {},
   "outputs": [],
   "source": [
    "# import sys\n",
    "# !{sys.executable} -m pip install time\n",
    "# AP is array of all non-zeros element from arr\n",
    "# Importing all the libraries needed and dataset used \n",
    "# please upload the dataset in csv formate and replace filename value\n",
    "# with the name of dataset file\n",
    "dataset_name = \"vrv218gr-upmedian.csv\"\n",
    "import numpy as np\n",
    "import pandas as pd\n",
    "import matplotlib.pyplot as plt\n",
    "from matplotlib.pylab import rcParams\n",
    "rcParams['figure.figsize']=10,6\n",
    "import time\n",
    "df = pd.read_csv(dataset_name,header=None)\n",
    "arr = np.array(df)\n",
    "N=len(arr)"
   ]
  },
  {
   "cell_type": "code",
   "execution_count": 44,
   "id": "8128df7a",
   "metadata": {},
   "outputs": [],
   "source": [
    "AP = [] \n",
    "for i in range(len(arr)):\n",
    "  if (arr[i]!=0):\n",
    "    AP.append(arr[i])\n",
    "lap=len(AP)"
   ]
  },
  {
   "cell_type": "code",
   "execution_count": 64,
   "id": "35cb193e",
   "metadata": {},
   "outputs": [],
   "source": [
    "# Here we are using different permutaion of AP and replacing the \n",
    "# sequence of non zeros element from arr and saving it to arr2\n",
    "# and finally repeating this process 100 times\n",
    "for i in range(100):\n",
    "  arr2=arr.copy()\n",
    "  c2=-1\n",
    "  APrand = np.random.permutation(AP)\n",
    "  for c in range(N):\n",
    "    if (arr2[c]!=0):\n",
    "      c2+=1\n",
    "      arr2[c]=APrand[c2]\n",
    "  filename='timesr_gr_ranap'+str(i+1)+'.csv';\n",
    "  pd.DataFrame(arr2).to_csv(filename,index=False)"
   ]
  },
  {
   "cell_type": "markdown",
   "id": "38fdd4bf",
   "metadata": {},
   "source": [
    "# Section 2"
   ]
  },
  {
   "cell_type": "code",
   "execution_count": 65,
   "id": "74c9e785",
   "metadata": {},
   "outputs": [],
   "source": [
    "# Here we use Window function and take windows of size steps \n",
    "# and calculate conv value of the randome generated files in section 1\n",
    "# and save these files to a new set of values\n",
    "# section 2 is only one part of it \n",
    "# it will be repeacted 100 times after this"
   ]
  },
  {
   "cell_type": "code",
   "execution_count": 66,
   "id": "5664d372",
   "metadata": {},
   "outputs": [
    {
     "name": "stdout",
     "output_type": "stream",
     "text": [
      "10\n"
     ]
    }
   ],
   "source": [
    "arr2=arr.copy()\n",
    "ncol=N=len(arr)\n",
    "steps = int(input())"
   ]
  },
  {
   "cell_type": "code",
   "execution_count": 67,
   "id": "3b8e66f5",
   "metadata": {},
   "outputs": [],
   "source": [
    "# arr2.shape is (37610, 1)\n",
    "# all the files names in the formate 'timesr_gr_ranap1.csv'\n",
    "# are just some random variations of the file arr"
   ]
  },
  {
   "cell_type": "code",
   "execution_count": 68,
   "id": "cd2b4f38",
   "metadata": {},
   "outputs": [],
   "source": [
    "def window(arr,w):\n",
    "  ans = []\n",
    "  a = len(arr)\n",
    "  b=len(w)\n",
    "  ans.append(arr[b-1])\n",
    "  for i in range(b,a):\n",
    "    ans.append(arr[i]-arr[i-b])\n",
    "  return ans"
   ]
  },
  {
   "cell_type": "code",
   "execution_count": 69,
   "id": "8ac6b5cf",
   "metadata": {},
   "outputs": [
    {
     "data": {
      "text/plain": [
       "(351, 1)"
      ]
     },
     "execution_count": 69,
     "metadata": {},
     "output_type": "execute_result"
    }
   ],
   "source": [
    "# arr3 is derived from arr2 to simplify our windows function\n",
    "arr3=arr2.copy()\n",
    "temp=0\n",
    "for i in range(len(arr3)):\n",
    "  arr3[i]=temp+arr3[i]\n",
    "  temp=arr3[i]\n",
    "arr3.shape"
   ]
  },
  {
   "cell_type": "code",
   "execution_count": 70,
   "id": "bc1343f2",
   "metadata": {},
   "outputs": [],
   "source": [
    "c=0\n",
    "for w in(range(1,N+1,steps)):    # {c = N/steps}            \n",
    "    c=c+1\n",
    "lacscan = np.random.rand(c)\n",
    "box_size=range(1,N+1,steps)\n",
    "c=0\n",
    "# lacscan.shape\n",
    "# np.array(box_size).shape"
   ]
  },
  {
   "cell_type": "code",
   "execution_count": 71,
   "id": "212e2a27",
   "metadata": {},
   "outputs": [],
   "source": [
    "# lacscan is an array which have N/step random"
   ]
  },
  {
   "cell_type": "code",
   "execution_count": 72,
   "id": "fd33bc84",
   "metadata": {},
   "outputs": [
    {
     "data": {
      "text/plain": [
       "(36,)"
      ]
     },
     "execution_count": 72,
     "metadata": {},
     "output_type": "execute_result"
    }
   ],
   "source": [
    "np.array(box_size).shape"
   ]
  },
  {
   "cell_type": "code",
   "execution_count": 73,
   "id": "afd78345",
   "metadata": {},
   "outputs": [
    {
     "data": {
      "text/plain": [
       "0.026314735412597656"
      ]
     },
     "execution_count": 73,
     "metadata": {},
     "output_type": "execute_result"
    }
   ],
   "source": [
    "t=time.time()\n",
    "for wind in range(1,N+1,steps):\n",
    "    mom1=0 \n",
    "    v=0 \n",
    "    mom2=0\n",
    "    w = np.ones(wind)\n",
    "    s = window(arr3,w)\n",
    "    mom1 = np.mean(s)                             \n",
    "    v=np.var(s)\n",
    "    mom2 = pow(mom1,2)+v\n",
    "    lacscan[c] = mom2/pow(mom1,2)\n",
    "    c=c+1\n",
    "elapsed=time.time()-t\n",
    "elapsed"
   ]
  },
  {
   "cell_type": "code",
   "execution_count": 74,
   "id": "3d9c0589",
   "metadata": {},
   "outputs": [],
   "source": [
    "a = np.array(box_size)\n",
    "b = np.array(lacscan) \n",
    "L = []\n",
    "L.append(a)\n",
    "L.append(b)\n",
    "arrL = np.array(L)"
   ]
  },
  {
   "cell_type": "code",
   "execution_count": 75,
   "id": "575af2ec",
   "metadata": {},
   "outputs": [],
   "source": [
    "filename='lac_timesr_gr'+'.csv'\n",
    "df = pd.DataFrame(arrL)\n",
    "df.to_csv(filename,index=False,header=False)"
   ]
  },
  {
   "cell_type": "code",
   "execution_count": 76,
   "id": "e1f07df4",
   "metadata": {},
   "outputs": [
    {
     "data": {
      "text/html": [
       "<div>\n",
       "<style scoped>\n",
       "    .dataframe tbody tr th:only-of-type {\n",
       "        vertical-align: middle;\n",
       "    }\n",
       "\n",
       "    .dataframe tbody tr th {\n",
       "        vertical-align: top;\n",
       "    }\n",
       "\n",
       "    .dataframe thead th {\n",
       "        text-align: right;\n",
       "    }\n",
       "</style>\n",
       "<table border=\"1\" class=\"dataframe\">\n",
       "  <thead>\n",
       "    <tr style=\"text-align: right;\">\n",
       "      <th></th>\n",
       "      <th>0</th>\n",
       "      <th>1</th>\n",
       "      <th>2</th>\n",
       "      <th>3</th>\n",
       "      <th>4</th>\n",
       "      <th>5</th>\n",
       "      <th>6</th>\n",
       "      <th>7</th>\n",
       "      <th>8</th>\n",
       "      <th>9</th>\n",
       "      <th>...</th>\n",
       "      <th>26</th>\n",
       "      <th>27</th>\n",
       "      <th>28</th>\n",
       "      <th>29</th>\n",
       "      <th>30</th>\n",
       "      <th>31</th>\n",
       "      <th>32</th>\n",
       "      <th>33</th>\n",
       "      <th>34</th>\n",
       "      <th>35</th>\n",
       "    </tr>\n",
       "  </thead>\n",
       "  <tbody>\n",
       "    <tr>\n",
       "      <th>0</th>\n",
       "      <td>1.000000</td>\n",
       "      <td>11.000000</td>\n",
       "      <td>21.000000</td>\n",
       "      <td>31.000000</td>\n",
       "      <td>41.000000</td>\n",
       "      <td>51.000000</td>\n",
       "      <td>61.000000</td>\n",
       "      <td>71.000000</td>\n",
       "      <td>81.000000</td>\n",
       "      <td>91.000000</td>\n",
       "      <td>...</td>\n",
       "      <td>261.000000</td>\n",
       "      <td>271.000000</td>\n",
       "      <td>281.000000</td>\n",
       "      <td>291.00000</td>\n",
       "      <td>301.00000</td>\n",
       "      <td>311.000000</td>\n",
       "      <td>321.000000</td>\n",
       "      <td>331.000000</td>\n",
       "      <td>341.000000</td>\n",
       "      <td>351.0</td>\n",
       "    </tr>\n",
       "    <tr>\n",
       "      <th>1</th>\n",
       "      <td>2.004286</td>\n",
       "      <td>1.169182</td>\n",
       "      <td>1.113554</td>\n",
       "      <td>1.084607</td>\n",
       "      <td>1.064847</td>\n",
       "      <td>1.051078</td>\n",
       "      <td>1.040478</td>\n",
       "      <td>1.030779</td>\n",
       "      <td>1.023917</td>\n",
       "      <td>1.019473</td>\n",
       "      <td>...</td>\n",
       "      <td>1.001502</td>\n",
       "      <td>1.000856</td>\n",
       "      <td>1.000376</td>\n",
       "      <td>1.00014</td>\n",
       "      <td>1.00009</td>\n",
       "      <td>1.000098</td>\n",
       "      <td>1.000097</td>\n",
       "      <td>1.000043</td>\n",
       "      <td>1.000024</td>\n",
       "      <td>1.0</td>\n",
       "    </tr>\n",
       "  </tbody>\n",
       "</table>\n",
       "<p>2 rows × 36 columns</p>\n",
       "</div>"
      ],
      "text/plain": [
       "         0          1          2          3          4          5          6   \\\n",
       "0  1.000000  11.000000  21.000000  31.000000  41.000000  51.000000  61.000000   \n",
       "1  2.004286   1.169182   1.113554   1.084607   1.064847   1.051078   1.040478   \n",
       "\n",
       "          7          8          9   ...          26          27          28  \\\n",
       "0  71.000000  81.000000  91.000000  ...  261.000000  271.000000  281.000000   \n",
       "1   1.030779   1.023917   1.019473  ...    1.001502    1.000856    1.000376   \n",
       "\n",
       "          29         30          31          32          33          34     35  \n",
       "0  291.00000  301.00000  311.000000  321.000000  331.000000  341.000000  351.0  \n",
       "1    1.00014    1.00009    1.000098    1.000097    1.000043    1.000024    1.0  \n",
       "\n",
       "[2 rows x 36 columns]"
      ]
     },
     "execution_count": 76,
     "metadata": {},
     "output_type": "execute_result"
    }
   ],
   "source": [
    "df.head()"
   ]
  },
  {
   "cell_type": "code",
   "execution_count": 77,
   "id": "66fbb735",
   "metadata": {},
   "outputs": [
    {
     "data": {
      "text/html": [
       "<div>\n",
       "<style scoped>\n",
       "    .dataframe tbody tr th:only-of-type {\n",
       "        vertical-align: middle;\n",
       "    }\n",
       "\n",
       "    .dataframe tbody tr th {\n",
       "        vertical-align: top;\n",
       "    }\n",
       "\n",
       "    .dataframe thead th {\n",
       "        text-align: right;\n",
       "    }\n",
       "</style>\n",
       "<table border=\"1\" class=\"dataframe\">\n",
       "  <thead>\n",
       "    <tr style=\"text-align: right;\">\n",
       "      <th></th>\n",
       "      <th>0</th>\n",
       "      <th>1</th>\n",
       "      <th>2</th>\n",
       "      <th>3</th>\n",
       "      <th>4</th>\n",
       "      <th>5</th>\n",
       "      <th>6</th>\n",
       "      <th>7</th>\n",
       "      <th>8</th>\n",
       "      <th>9</th>\n",
       "      <th>...</th>\n",
       "      <th>26</th>\n",
       "      <th>27</th>\n",
       "      <th>28</th>\n",
       "      <th>29</th>\n",
       "      <th>30</th>\n",
       "      <th>31</th>\n",
       "      <th>32</th>\n",
       "      <th>33</th>\n",
       "      <th>34</th>\n",
       "      <th>35</th>\n",
       "    </tr>\n",
       "  </thead>\n",
       "  <tbody>\n",
       "    <tr>\n",
       "      <th>0</th>\n",
       "      <td>1.000000</td>\n",
       "      <td>11.000000</td>\n",
       "      <td>21.000000</td>\n",
       "      <td>31.000000</td>\n",
       "      <td>41.000000</td>\n",
       "      <td>51.000000</td>\n",
       "      <td>61.000000</td>\n",
       "      <td>71.000000</td>\n",
       "      <td>81.000000</td>\n",
       "      <td>91.000000</td>\n",
       "      <td>...</td>\n",
       "      <td>261.000000</td>\n",
       "      <td>271.000000</td>\n",
       "      <td>281.000000</td>\n",
       "      <td>291.00000</td>\n",
       "      <td>301.00000</td>\n",
       "      <td>311.000000</td>\n",
       "      <td>321.000000</td>\n",
       "      <td>331.000000</td>\n",
       "      <td>341.000000</td>\n",
       "      <td>351.0</td>\n",
       "    </tr>\n",
       "    <tr>\n",
       "      <th>1</th>\n",
       "      <td>2.004286</td>\n",
       "      <td>1.169182</td>\n",
       "      <td>1.113554</td>\n",
       "      <td>1.084607</td>\n",
       "      <td>1.064847</td>\n",
       "      <td>1.051078</td>\n",
       "      <td>1.040478</td>\n",
       "      <td>1.030779</td>\n",
       "      <td>1.023917</td>\n",
       "      <td>1.019473</td>\n",
       "      <td>...</td>\n",
       "      <td>1.001502</td>\n",
       "      <td>1.000856</td>\n",
       "      <td>1.000376</td>\n",
       "      <td>1.00014</td>\n",
       "      <td>1.00009</td>\n",
       "      <td>1.000098</td>\n",
       "      <td>1.000097</td>\n",
       "      <td>1.000043</td>\n",
       "      <td>1.000024</td>\n",
       "      <td>1.0</td>\n",
       "    </tr>\n",
       "  </tbody>\n",
       "</table>\n",
       "<p>2 rows × 36 columns</p>\n",
       "</div>"
      ],
      "text/plain": [
       "         0          1          2          3          4          5          6   \\\n",
       "0  1.000000  11.000000  21.000000  31.000000  41.000000  51.000000  61.000000   \n",
       "1  2.004286   1.169182   1.113554   1.084607   1.064847   1.051078   1.040478   \n",
       "\n",
       "          7          8          9   ...          26          27          28  \\\n",
       "0  71.000000  81.000000  91.000000  ...  261.000000  271.000000  281.000000   \n",
       "1   1.030779   1.023917   1.019473  ...    1.001502    1.000856    1.000376   \n",
       "\n",
       "          29         30          31          32          33          34     35  \n",
       "0  291.00000  301.00000  311.000000  321.000000  331.000000  341.000000  351.0  \n",
       "1    1.00014    1.00009    1.000098    1.000097    1.000043    1.000024    1.0  \n",
       "\n",
       "[2 rows x 36 columns]"
      ]
     },
     "execution_count": 77,
     "metadata": {},
     "output_type": "execute_result"
    }
   ],
   "source": [
    "df = pd.read_csv(filename,header=None)\n",
    "df.head()"
   ]
  },
  {
   "cell_type": "code",
   "execution_count": 78,
   "id": "79c6f77a",
   "metadata": {},
   "outputs": [
    {
     "data": {
      "text/plain": [
       "Text(0, 0.5, 'log lacunarity L(r)')"
      ]
     },
     "execution_count": 78,
     "metadata": {},
     "output_type": "execute_result"
    },
    {
     "data": {
      "image/png": "[encoded data removed]",
      "text/plain": [
       "<Figure size 720x432 with 1 Axes>"
      ]
     },
     "metadata": {
      "needs_background": "light"
     },
     "output_type": "display_data"
    }
   ],
   "source": [
    "plt.figure;\n",
    "plt.plot(np.log10(box_size),np.log10(lacscan),'b-')\n",
    "plt.xlabel('log box-size (r)')\n",
    "plt.ylabel('log lacunarity L(r)')"
   ]
  },
  {
   "cell_type": "code",
   "execution_count": 79,
   "id": "c17802ab",
   "metadata": {},
   "outputs": [],
   "source": [
    "temp = pd.read_csv('lac_timesr_gr.csv',header=None)"
   ]
  },
  {
   "cell_type": "code",
   "execution_count": 80,
   "id": "ac0570e2",
   "metadata": {},
   "outputs": [
    {
     "data": {
      "text/html": [
       "<div>\n",
       "<style scoped>\n",
       "    .dataframe tbody tr th:only-of-type {\n",
       "        vertical-align: middle;\n",
       "    }\n",
       "\n",
       "    .dataframe tbody tr th {\n",
       "        vertical-align: top;\n",
       "    }\n",
       "\n",
       "    .dataframe thead th {\n",
       "        text-align: right;\n",
       "    }\n",
       "</style>\n",
       "<table border=\"1\" class=\"dataframe\">\n",
       "  <thead>\n",
       "    <tr style=\"text-align: right;\">\n",
       "      <th></th>\n",
       "      <th>0</th>\n",
       "      <th>1</th>\n",
       "      <th>2</th>\n",
       "      <th>3</th>\n",
       "      <th>4</th>\n",
       "      <th>5</th>\n",
       "      <th>6</th>\n",
       "      <th>7</th>\n",
       "      <th>8</th>\n",
       "      <th>9</th>\n",
       "      <th>...</th>\n",
       "      <th>26</th>\n",
       "      <th>27</th>\n",
       "      <th>28</th>\n",
       "      <th>29</th>\n",
       "      <th>30</th>\n",
       "      <th>31</th>\n",
       "      <th>32</th>\n",
       "      <th>33</th>\n",
       "      <th>34</th>\n",
       "      <th>35</th>\n",
       "    </tr>\n",
       "  </thead>\n",
       "  <tbody>\n",
       "    <tr>\n",
       "      <th>0</th>\n",
       "      <td>1.000000</td>\n",
       "      <td>11.000000</td>\n",
       "      <td>21.000000</td>\n",
       "      <td>31.000000</td>\n",
       "      <td>41.000000</td>\n",
       "      <td>51.000000</td>\n",
       "      <td>61.000000</td>\n",
       "      <td>71.000000</td>\n",
       "      <td>81.000000</td>\n",
       "      <td>91.000000</td>\n",
       "      <td>...</td>\n",
       "      <td>261.000000</td>\n",
       "      <td>271.000000</td>\n",
       "      <td>281.000000</td>\n",
       "      <td>291.00000</td>\n",
       "      <td>301.00000</td>\n",
       "      <td>311.000000</td>\n",
       "      <td>321.000000</td>\n",
       "      <td>331.000000</td>\n",
       "      <td>341.000000</td>\n",
       "      <td>351.0</td>\n",
       "    </tr>\n",
       "    <tr>\n",
       "      <th>1</th>\n",
       "      <td>2.004286</td>\n",
       "      <td>1.169182</td>\n",
       "      <td>1.113554</td>\n",
       "      <td>1.084607</td>\n",
       "      <td>1.064847</td>\n",
       "      <td>1.051078</td>\n",
       "      <td>1.040478</td>\n",
       "      <td>1.030779</td>\n",
       "      <td>1.023917</td>\n",
       "      <td>1.019473</td>\n",
       "      <td>...</td>\n",
       "      <td>1.001502</td>\n",
       "      <td>1.000856</td>\n",
       "      <td>1.000376</td>\n",
       "      <td>1.00014</td>\n",
       "      <td>1.00009</td>\n",
       "      <td>1.000098</td>\n",
       "      <td>1.000097</td>\n",
       "      <td>1.000043</td>\n",
       "      <td>1.000024</td>\n",
       "      <td>1.0</td>\n",
       "    </tr>\n",
       "  </tbody>\n",
       "</table>\n",
       "<p>2 rows × 36 columns</p>\n",
       "</div>"
      ],
      "text/plain": [
       "         0          1          2          3          4          5          6   \\\n",
       "0  1.000000  11.000000  21.000000  31.000000  41.000000  51.000000  61.000000   \n",
       "1  2.004286   1.169182   1.113554   1.084607   1.064847   1.051078   1.040478   \n",
       "\n",
       "          7          8          9   ...          26          27          28  \\\n",
       "0  71.000000  81.000000  91.000000  ...  261.000000  271.000000  281.000000   \n",
       "1   1.030779   1.023917   1.019473  ...    1.001502    1.000856    1.000376   \n",
       "\n",
       "          29         30          31          32          33          34     35  \n",
       "0  291.00000  301.00000  311.000000  321.000000  331.000000  341.000000  351.0  \n",
       "1    1.00014    1.00009    1.000098    1.000097    1.000043    1.000024    1.0  \n",
       "\n",
       "[2 rows x 36 columns]"
      ]
     },
     "execution_count": 80,
     "metadata": {},
     "output_type": "execute_result"
    }
   ],
   "source": [
    "temp.head()"
   ]
  },
  {
   "cell_type": "code",
   "execution_count": 81,
   "id": "78c3718a",
   "metadata": {},
   "outputs": [],
   "source": [
    "arr3=arr2.copy()\n",
    "temp=0\n",
    "for i in range(len(arr3)):\n",
    "  arr3[i]=temp+arr3[i]\n",
    "  temp=arr3[i]"
   ]
  },
  {
   "cell_type": "markdown",
   "id": "4bf40bce",
   "metadata": {},
   "source": [
    "# Section 3"
   ]
  },
  {
   "cell_type": "code",
   "execution_count": 82,
   "id": "8b90d6b3",
   "metadata": {},
   "outputs": [],
   "source": [
    "def window(arr,w):\n",
    "  ans = []\n",
    "  a = len(arr)\n",
    "  b=len(w)\n",
    "  ans.append(arr[b-1])\n",
    "  for i in range(b,a):\n",
    "    ans.append(arr[i]-arr[i-b])\n",
    "  return ans"
   ]
  },
  {
   "cell_type": "code",
   "execution_count": 83,
   "id": "291a6414",
   "metadata": {},
   "outputs": [
    {
     "name": "stdout",
     "output_type": "stream",
     "text": [
      "START AT random realization...1\n",
      "UPTO random realization...100\n"
     ]
    }
   ],
   "source": [
    "k1 = int(input(\"START AT random realization...\"))\n",
    "k2 = int(input(\"UPTO random realization...\"))\n",
    "data = pd.read_csv(\"lac_timesr_gr.csv\",header=None)\n",
    "arr2 = np.array(data)\n",
    "arr2=arr.copy()\n",
    "k=k2-k1+1\n",
    "NN=len(arr2)\n",
    "lacall=np.random.rand(NN,k)"
   ]
  },
  {
   "cell_type": "code",
   "execution_count": 84,
   "id": "0fe9f10b",
   "metadata": {},
   "outputs": [],
   "source": [
    "filename = \"timesr_gr_ranap\"+str(1)+\".csv\"\n",
    "SCAN = np.array(pd.read_csv(filename))\n",
    "N=len(SCAN)\n",
    "for w in range(1,N+1,10):\n",
    "    c=c+1\n",
    "lacSCAN=np.random.rand(c)\n",
    "box_size=range(1,N+1,10)"
   ]
  },
  {
   "cell_type": "code",
   "execution_count": 85,
   "id": "2d5b1e65",
   "metadata": {},
   "outputs": [
    {
     "data": {
      "text/plain": [
       "(36,)"
      ]
     },
     "execution_count": 85,
     "metadata": {},
     "output_type": "execute_result"
    }
   ],
   "source": [
    "np.array(box_size).shape"
   ]
  },
  {
   "cell_type": "code",
   "execution_count": 86,
   "id": "e72e9160",
   "metadata": {},
   "outputs": [
    {
     "data": {
      "text/plain": [
       "3.1668312549591064"
      ]
     },
     "execution_count": 86,
     "metadata": {},
     "output_type": "execute_result"
    }
   ],
   "source": [
    "t=time.time()\n",
    "for i in range(k1,k2+1):\n",
    "  filename = \"timesr_gr_ranap\"+str(i)+\".csv\"\n",
    "  SCAN = np.array(pd.read_csv(filename))\n",
    "  N=len(SCAN)\n",
    "  arr3=SCAN.copy()\n",
    "  temp=0                              #\n",
    "  for j in range(len(arr3)):          #\n",
    "    arr3[j]=temp+arr3[j]              #\n",
    "    temp=arr3[j]                      #\n",
    "  c=0\n",
    "  for w in range(1,N+1,steps):\n",
    "    c=c+1\n",
    "  lacscan=np.random.rand(c)\n",
    "  box_size=range(1,N+1,steps)\n",
    "  c=0\n",
    "  for wind in range(1,N+1,steps):\n",
    "    mom1=0 \n",
    "    v=0 \n",
    "    mom2=0\n",
    "    w = np.ones(wind)\n",
    "    s = window(arr3,w)\n",
    "    mom1 = np.mean(s)                             \n",
    "    v=np.var(s)\n",
    "    mom2 = pow(mom1,2)+v\n",
    "    lacscan[c] = mom2/pow(mom1,2)\n",
    "    c=c+1\n",
    "  a = np.array(box_size)\n",
    "  b = np.array(lacscan) \n",
    "  L = []\n",
    "  L.append(a)\n",
    "  L.append(b)\n",
    "  arrL = np.array(L)\n",
    "  filename='lac_timesr_gr_ranap'+str(i)+'.csv'\n",
    "  df = pd.DataFrame(arrL)\n",
    "  df.to_csv(filename,header=None,index=None)\n",
    "t2 = time.time()-t\n",
    "t2"
   ]
  },
  {
   "cell_type": "markdown",
   "id": "91431488",
   "metadata": {},
   "source": [
    "# Section 4"
   ]
  },
  {
   "cell_type": "code",
   "execution_count": 87,
   "id": "3d266ea7",
   "metadata": {},
   "outputs": [],
   "source": [
    "data = pd.read_csv(\"lac_timesr_gr.csv\",header=None)\n",
    "Ld = np.array(data.iloc[1][:])\n",
    "r = np.array(data.iloc[0][:])\n",
    "Ldiv_all = []"
   ]
  },
  {
   "cell_type": "code",
   "execution_count": 88,
   "id": "cd719ebd",
   "metadata": {},
   "outputs": [],
   "source": [
    "for k in range(1,101):\n",
    "    filename=\"lac_timesr_gr_ranap\"+str(k)+\".csv\"\n",
    "    random = pd.read_csv(filename,header=None)\n",
    "    Lr = np.array(random.iloc[1][:])\n",
    "    Ldiv=np.divide(Ld,Lr)\n",
    "    for i in range(len(Ldiv)):\n",
    "        if Lr[i]==0:\n",
    "            Ldiv[i]=0\n",
    "    Ldiv_all.append(Ldiv)\n",
    "for k in range(50,101):\n",
    "    filename=\"lac_timesr_gr_ranap\"+str(k)+\".csv\"\n",
    "    random = pd.read_csv(filename,header=None)\n",
    "    Lr = np.array(random.iloc[1][:])\n",
    "    Ldiv=np.divide(Ld,Lr)\n",
    "    for i in range(len(Ldiv)):\n",
    "        if Lr[i]==0:\n",
    "            Ldiv[i]=0\n",
    "    Ldiv_all.append(Ldiv)"
   ]
  },
  {
   "cell_type": "code",
   "execution_count": 89,
   "id": "f963440f",
   "metadata": {},
   "outputs": [],
   "source": [
    "p25 = np.percentile(Ldiv_all,25,axis=0)\n",
    "p50 = np.percentile(Ldiv_all,50,axis=0)\n",
    "p75 = np.percentile(Ldiv_all,75,axis=0)\n",
    "Lavg= np.mean(Ldiv_all,axis=0)"
   ]
  },
  {
   "cell_type": "code",
   "execution_count": 90,
   "id": "47bfb358",
   "metadata": {},
   "outputs": [
    {
     "data": {
      "text/plain": [
       "(36,)"
      ]
     },
     "execution_count": 90,
     "metadata": {},
     "output_type": "execute_result"
    }
   ],
   "source": [
    "r.shape"
   ]
  },
  {
   "cell_type": "code",
   "execution_count": 91,
   "id": "4c7e1caf",
   "metadata": {},
   "outputs": [
    {
     "data": {
      "text/plain": [
       "Text(0, 0.5, 'Ldata / Lran')"
      ]
     },
     "execution_count": 91,
     "metadata": {},
     "output_type": "execute_result"
    },
    {
     "data": {
      "image/png": "[encoded data removed]",
      "text/plain": [
       "<Figure size 720x432 with 1 Axes>"
      ]
     },
     "metadata": {
      "needs_background": "light"
     },
     "output_type": "display_data"
    }
   ],
   "source": [
    "# plt.scatter(np.log10(r),p25) \n",
    "# plt.scatter(np.log10(r),p50)\n",
    "# plt.scatter(np.log10(r),p75) \n",
    "# plt.scatter(np.log10(r),Lavg,'b')\n",
    "# plt.xlabel('r(mm)')\n",
    "# plt.ylabel('Ldata / Lran')\n",
    "\n",
    "plt.scatter(r,p25) \n",
    "plt.scatter(r,p50)\n",
    "plt.scatter(r,p75) \n",
    "# plt.scatter(r,Lavg,'b')\n",
    "plt.xlabel('r(mm)')\n",
    "plt.ylabel('Ldata / Lran')"
   ]
  },
  {
   "cell_type": "code",
   "execution_count": 92,
   "id": "320b8dcd",
   "metadata": {},
   "outputs": [
    {
     "data": {
      "text/plain": [
       "Text(0, 0.5, 'Ldata / Lran')"
      ]
     },
     "execution_count": 92,
     "metadata": {},
     "output_type": "execute_result"
    },
    {
     "data": {
      "image/png": "[encoded data removed]",
      "text/plain": [
       "<Figure size 720x432 with 1 Axes>"
      ]
     },
     "metadata": {
      "needs_background": "light"
     },
     "output_type": "display_data"
    }
   ],
   "source": [
    "plt.scatter(np.log10(r),p25) \n",
    "plt.scatter(np.log10(r),p50)\n",
    "plt.scatter(np.log10(r),p75) \n",
    "# plt.scatter(np.log10(r),Lavg,'b')\n",
    "plt.xlabel('r(mm)')\n",
    "plt.ylabel('Ldata / Lran')"
   ]
  },
  {
   "cell_type": "code",
   "execution_count": 95,
   "id": "b83daa5e",
   "metadata": {},
   "outputs": [
    {
     "data": {
      "text/plain": [
       "(0.0, 2.0)"
      ]
     },
     "execution_count": 95,
     "metadata": {},
     "output_type": "execute_result"
    },
    {
     "data": {
      "image/png": "[encoded data removed]",
      "text/plain": [
       "<Figure size 720x432 with 1 Axes>"
      ]
     },
     "metadata": {
      "needs_background": "light"
     },
     "output_type": "display_data"
    }
   ],
   "source": [
    "plt.plot(np.log10(r),p25) \n",
    "plt.plot(np.log10(r),p50)\n",
    "plt.plot(np.log10(r),p75) \n",
    "# plt.scatter(np.log10(r),Lavg,'b')\n",
    "plt.xlabel('log10(r(mm))')\n",
    "plt.ylabel('Ldata / Lran')\n",
    "plt.xlim(left=0,right=2)"
   ]
  },
  {
   "cell_type": "code",
   "execution_count": 96,
   "id": "d044fb53",
   "metadata": {},
   "outputs": [
    {
     "data": {
      "text/plain": [
       "(2.0, 2.672572472289115)"
      ]
     },
     "execution_count": 96,
     "metadata": {},
     "output_type": "execute_result"
    },
    {
     "data": {
      "image/png": "[encoded data removed]",
      "text/plain": [
       "<Figure size 720x432 with 1 Axes>"
      ]
     },
     "metadata": {
      "needs_background": "light"
     },
     "output_type": "display_data"
    }
   ],
   "source": [
    "plt.plot(np.log10(r),p25) \n",
    "plt.plot(np.log10(r),p50)\n",
    "plt.plot(np.log10(r),p75) \n",
    "# plt.scatter(np.log10(r),Lavg,'b')\n",
    "plt.xlabel('log10(r(mm))')\n",
    "plt.ylabel('Ldata / Lran')\n",
    "plt.xlim(left=2)"
   ]
  },
  {
   "cell_type": "code",
   "execution_count": 62,
   "id": "74a71376",
   "metadata": {},
   "outputs": [],
   "source": [
    "data = pd.read_csv(\"lac_timesr_gr_ranap1.csv\",header=None)\n",
    "Ld = np.array(data.iloc[1][:])\n",
    "r = np.array(data.iloc[0][:])\n",
    "Ldiv_all = []\n",
    "for k in range(1,101):\n",
    "    filename=\"lac_timesr_gr_ranap\"+str(k)+\".csv\"\n",
    "    random = pd.read_csv(filename,header=None)\n",
    "    Lr = np.array(random.iloc[1][:])\n",
    "    Ldiv=np.divide(Ld,Lr)\n",
    "    for i in range(len(Ldiv)):\n",
    "        if Lr[i]==0:\n",
    "            Ldiv[i]=0\n",
    "    Ldiv_all.append(Ldiv)\n",
    "for k in range(50,101):\n",
    "    filename=\"lac_timesr_gr_ranap\"+str(k)+\".csv\"\n",
    "    random = pd.read_csv(filename,header=None)\n",
    "    Lr = np.array(random.iloc[1][:])\n",
    "    Ldiv=np.divide(Ld,Lr)\n",
    "    for i in range(len(Ldiv)):\n",
    "        if Lr[i]==0:\n",
    "            Ldiv[i]=0\n",
    "    Ldiv_all.append(Ldiv)"
   ]
  },
  {
   "cell_type": "code",
   "execution_count": 63,
   "id": "2022005f",
   "metadata": {},
   "outputs": [
    {
     "data": {
      "text/plain": [
       "Text(0, 0.5, 'Ldata / Lran')"
      ]
     },
     "execution_count": 63,
     "metadata": {},
     "output_type": "execute_result"
    },
    {
     "data": {
      "image/png": "[encoded data removed]",
      "text/plain": [
       "<Figure size 720x432 with 1 Axes>"
      ]
     },
     "metadata": {
      "needs_background": "light"
     },
     "output_type": "display_data"
    }
   ],
   "source": [
    "p25 = np.percentile(Ldiv_all,25,axis=0)\n",
    "p50 = np.percentile(Ldiv_all,50,axis=0)\n",
    "p75 = np.percentile(Ldiv_all,75,axis=0)\n",
    "Lavg= np.mean(Ldiv_all,axis=0)\n",
    "plt.ylim([0.95,1.05])\n",
    "plt.plot(np.log10(r),p25) \n",
    "plt.plot(np.log10(r),p50)\n",
    "plt.plot(np.log10(r),p75) \n",
    "# plt.scatter(np.log10(r),Lavg,'b')\n",
    "plt.xlabel('log10(r(mm))')\n",
    "plt.ylabel('Ldata / Lran')"
   ]
  },
  {
   "cell_type": "code",
   "execution_count": null,
   "id": "37015ee4",
   "metadata": {},
   "outputs": [],
   "source": []
  },
  {
   "cell_type": "code",
   "execution_count": null,
   "id": "0d37f882",
   "metadata": {},
   "outputs": [],
   "source": []
  },
  {
   "cell_type": "code",
   "execution_count": null,
   "id": "b95d3c9b",
   "metadata": {},
   "outputs": [],
   "source": []
  },
  {
   "cell_type": "code",
   "execution_count": null,
   "id": "acb21252",
   "metadata": {},
   "outputs": [],
   "source": []
  },
  {
   "cell_type": "code",
   "execution_count": null,
   "id": "ca6875c0",
   "metadata": {},
   "outputs": [],
   "source": []
  }
 ],
 "metadata": {
  "kernelspec": {
   "display_name": "Python 3",
   "language": "python",
   "name": "python3"
  },
  "language_info": {
   "codemirror_mode": {
    "name": "ipython",
    "version": 3
   },
   "file_extension": ".py",
   "mimetype": "text/x-python",
   "name": "python",
   "nbconvert_exporter": "python",
   "pygments_lexer": "ipython3",
   "version": "3.8.5"
  }
 },
 "nbformat": 4,
 "nbformat_minor": 5
}
